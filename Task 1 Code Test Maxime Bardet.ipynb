{
 "cells": [
  {
   "cell_type": "code",
   "execution_count": 1,
   "metadata": {},
   "outputs": [],
   "source": [
    "# Importing libraries\n",
    "\n",
    "import pandas as pd\n",
    "import numpy as np\n",
    "from random import uniform\n",
    "from math import radians, sin, cos, asin, sqrt"
   ]
  },
  {
   "cell_type": "code",
   "execution_count": 2,
   "metadata": {},
   "outputs": [],
   "source": [
    "# Define Great Circle Distance function\n",
    "\n",
    "def haversine(lon1, lat1, lon2, lat2):\n",
    "    lon1, lat1, lon2, lat2 = map(radians, [lon1, lat1, lon2, lat2])\n",
    "    dlon = lon2 - lon1\n",
    "    dlat = lat2 - lat1\n",
    "    a = sin(dlat / 2) ** 2 + cos(lat1) * cos(lat2) * sin(dlon / 2) ** 2\n",
    "    return 2 * 6371 * asin(sqrt(a))"
   ]
  },
  {
   "cell_type": "code",
   "execution_count": 3,
   "metadata": {},
   "outputs": [
    {
     "name": "stdout",
     "output_type": "stream",
     "text": [
      "Enter number of places to create and press enter\n",
      "5\n"
     ]
    }
   ],
   "source": [
    "# Enter number of places to be created\n",
    "# By just pressing enter, the default places.csv file will be used\n",
    "\n",
    "print(\"Enter number of places to create and press enter\")\n",
    "\n",
    "# take input from user\n",
    "input_a = input()\n"
   ]
  },
  {
   "cell_type": "code",
   "execution_count": 4,
   "metadata": {},
   "outputs": [
    {
     "name": "stdout",
     "output_type": "stream",
     "text": [
      "Number of cities to be created :\n",
      "5\n"
     ]
    }
   ],
   "source": [
    "# Create DataFrame of places\n",
    "\n",
    "# Use default file\n",
    "if input_a == \"\": \n",
    "    print(\"No number entered : reading places from places.csv\")\n",
    "    places = pd.read_csv(\"places.csv\")\n",
    "\n",
    "\n",
    "# Create new random places Dataframe\n",
    "else:\n",
    "    input_a = int(input_a)\n",
    "    col_names = [\"Name\",\"Latitude\",\"Longitude\"]\n",
    "    print(\"Number of cities to be created :\")\n",
    "    print(input_a)\n",
    "    places = pd.DataFrame(index=range(input_a),columns=col_names)\n",
    "    for i in range(input_a):\n",
    "        places.Name[i] = 'place_' + str(i+1)\n",
    "        places.Latitude[i] = uniform(-90,90)\n",
    "        places.Longitude[i] = uniform(-180,180)\n",
    "    "
   ]
  },
  {
   "cell_type": "code",
   "execution_count": 5,
   "metadata": {},
   "outputs": [],
   "source": [
    "# Computing distances on input file\n",
    "\n",
    "# initialization variables\n",
    "col_names_output = [\"First_place\",\"Second_place\",\"Distance\"]\n",
    "length_places = len(places)\n",
    "numRows = int(length_places*(length_places - 1)/2)\n",
    "output = pd.DataFrame(index=range(numRows),columns=col_names_output)\n",
    "l = 0\n",
    "\n",
    "# computing distance and write in output DataFrame\n",
    "for j in range(len(places)):\n",
    "    for k in range(j+1, len(places)):\n",
    "        d = haversine(places.Longitude[j], places.Latitude[j], places.Longitude[k], places.Latitude[k])\n",
    "        output.Distance[l] = d\n",
    "        output.First_place[l] = places.Name[j]\n",
    "        output.Second_place[l] = places.Name[k]\n",
    "        l = l+1\n",
    "\n",
    "# Sort pairs by ascending distance        \n",
    "output_sorted = output.sort_values(by=['Distance'])\n",
    "\n",
    "# compute mean distance\n",
    "mean_dist = output_sorted.Distance.mean()\n",
    "\n",
    "#find row with closest value to mean_dist\n",
    "closest_pair = output_sorted.iloc[(output_sorted['Distance']-mean_dist).abs().argsort()[:1]]\n",
    "\n",
    "# Write last line\n",
    "last_line = 'Average distance: ' + str(round(mean_dist, 2)) + ' km. Closest pair: ' + closest_pair.to_string(index = False, header = False) + ' km'\n",
    "\n",
    "# rewrite output values with km\n",
    "for m in range(numRows):\n",
    "    output_sorted.Distance[m] = str(round(output_sorted.Distance[m], 1)) + ' km'\n",
    "    "
   ]
  },
  {
   "cell_type": "code",
   "execution_count": 6,
   "metadata": {},
   "outputs": [
    {
     "name": "stdout",
     "output_type": "stream",
     "text": [
      "Output file correctly created and filled\n"
     ]
    }
   ],
   "source": [
    "# Export to output file\n",
    "\n",
    "# Write Dataframe\n",
    "np.savetxt('output.txt', output_sorted.values,fmt='%-25s')\n",
    "\n",
    "# Write lasr line\n",
    "with open('output.txt', 'a') as f:\n",
    "    f.write(last_line)\n",
    "    \n",
    "print('Output file correctly created and filled')"
   ]
  }
 ],
 "metadata": {
  "kernelspec": {
   "display_name": "Python 3",
   "language": "python",
   "name": "python3"
  },
  "language_info": {
   "codemirror_mode": {
    "name": "ipython",
    "version": 3
   },
   "file_extension": ".py",
   "mimetype": "text/x-python",
   "name": "python",
   "nbconvert_exporter": "python",
   "pygments_lexer": "ipython3",
   "version": "3.7.3"
  }
 },
 "nbformat": 4,
 "nbformat_minor": 2
}
